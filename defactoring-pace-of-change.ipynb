{
 "cells": [
  {
   "cell_type": "markdown",
   "metadata": {},
   "source": [
    "# Defactoring Pace of Change\n",
    "\n",
    "\n",
    "TODO: introductory remarks about the defactoring process\n",
    "\n",
    "One of the byproducts of defactoring is a deconstruction of the structure of the code. (heh) Yet, the implementation of what we doing is completely different, at least conceptually, from deconstruction\n",
    "\n",
    "There is something processually different betwen deconstructing a text and deconstructing code. Where you would take a text and try to identify its meaningful sub-parts and their relations, with code, we are mirroring that process and putting the carefully deconstructed parts back together into one large linear narrative.\n",
    "\n",
    "Good code is already deconstructed (refactored) into modules and composable parts, we are in effect turning good code into sub-optimal code.\n",
    "\n",
    "\n",
    "NOtes on defactoring and writing computational narratives in the Notebook:\n",
    "\n",
    "- What do you do with helper functions? How should helper functions be interwoven into a linear computational narrative?\n",
    "- the global namespace is polluted as fuck\n",
    "- We actually infer 1 possible execution path in this notebook (analyzing *all* exectution paths would be humanly infeasible: what do we do with code that isn't part of that path, do we represent it or not?\n",
    "- What do we do with code that isn't executed as a result of the settings by Ted? We are including some of the non executed code (because ??) but not all of the non executed code. We don't have a very good rationale for this at the moment.\n",
    "- Observation: It would require a book-sized examination to do full justice to code and execution pathways of this article. There are multiple potential pathways, rivers and tributaries of data and computation. To fully realize DEFACTORING as a critical method is to explicate all possibilities...but to do this is infeasble (at least without computational assistance). What would it mean to computationally explore these alternatives? \n",
    "\n",
    "\n",
    "\n",
    "We have altered Ted Underwood's code, the letter is changed, but the spirit of the work is the same. \n",
    "\n"
   ]
  },
  {
   "cell_type": "markdown",
   "metadata": {},
   "source": [
    "## Looking at the data\n",
    "\n",
    "\n",
    "Before we dive into the code, we had a question about \"what do they mean by *volume*?\" in the Pace of Change article.\n",
    "\n",
    "The answer, to be confirmed, lives in the [Understanding Genre in a Collection of a Million Volumes](https://figshare.com/articles/Understanding_Genre_in_a_Collection_of_a_Million_Volumes_Interim_Report/1281251). Basically, the idea of \"volume\" comes from the Hathi Trust.\n",
    "\n",
    "\n",
    "\n",
    "Volume is equivalent to book. Volume is the Hathi Trust unit. \n",
    "\n",
    "> We worked with HathiTrust, which contains the aggregated collections of large public and university libraries; in the period we’re considering (1820-1919), that gave us a collection of roughly 758,400 books in English, of which about 53,200 include significant amounts of poetry. This doesn’t exhaustively cover print culture; it’s still a sample, with particular selection biases. (page 5)\n",
    "\n",
    "It would seem the 53,200 number comes from the fact that Ted has page level genre information. The details of this can be found in an additional figshare repository, [Page-leve genre metadata](https://figshare.com/articles/Page_Level_Genre_Metadata_for_English_Language_Volumes_in_HathiTrust_1700_1922/1279201) where:\n",
    "\n",
    "> Volumes of pentry often include proce introduction, or front and back matter; this was trimmed using publicly-available metadata. (page 33)\n",
    "\n",
    "This is how he was able to extract individual poems from the Hathi Trust data.\n",
    "\n",
    "TODO: We are going to need to be a bit more formal about how we represent the processes that created the data used in this code.\n",
    "\n",
    "Joris and Matt had short discussion the potential for confounds in the *random* sample which might have skewed that sample because it had the potential to include reviewed poetry. Pages 33 and 34 for the Pace of Change talk about the sampling and data preparation. We needed to talk through exactly what they did to understand it fully. After our discussion we agreed with their reasoning, but we would have liked to see a few more numbers. For example, \n",
    "\n",
    "> when a stray volume from the random set turns up near the top of our model’s list of books likely to be reviewed, it does turn out that many of those authors are reasonably well-known (Rupert Brooke, Elaine Goodale Eastman). (page 33)\n",
    "\n",
    "We would like to see more supporting data about the ratio between well-known and not-well-known authors popping up at the top of the model's list of books. Perhaps this is splitting hairs, but it would be good to have this supporting data. This however raises the question about how to formalize the \"well-knownness\" of a particular author. This utlimately might be more of a commentary upon our total ignorance of 19th century poetry, Matt and Joris are not English literary scholars (Joris is a Dutch literary scholar) and as such neither of us know very much about 19th century poets. Basically, we don't know much about Rupert Brooke and Elaine Goodale Eastman. This is perhaps a minor nitpick.\n",
    "\n",
    "Our question is \"How many *well-known* authors were in the random sample?\""
   ]
  },
  {
   "cell_type": "markdown",
   "metadata": {},
   "source": [
    "## Looking at the shape of the data\n",
    "\n",
    "The poems live in the `poems` directory. Here is what they look like:"
   ]
  },
  {
   "cell_type": "code",
   "execution_count": 2,
   "metadata": {
    "collapsed": false
   },
   "outputs": [
    {
     "name": "stdout",
     "output_type": "stream",
     "text": [
      ",\t2745\r\n",
      "the\t1445\r\n",
      "and\t1182\r\n",
      ".\t672\r\n",
      "of\t468\r\n",
      "to\t442\r\n",
      ":\t386\r\n",
      "in\t384\r\n",
      ";\t324\r\n",
      "a\t253\r\n",
      "but\t228\r\n",
      "his\t223\r\n",
      "he\t218\r\n",
      "|'s|\t211\r\n",
      "with\t198\r\n",
      "—\t197\r\n",
      "that\t188\r\n",
      "on\t187\r\n",
      "they\t172\r\n",
      "for\t171\r\n"
     ]
    }
   ],
   "source": [
    "!head -n20 poems/dul1.ark+\\=13960\\=t5fb5xg2z.poe.tsv"
   ]
  },
  {
   "cell_type": "markdown",
   "metadata": {},
   "source": [
    "poems are represented as word frequency counts. \n",
    "\n",
    "\n",
    "We should also be mindful of what information is captured by the metadata:"
   ]
  },
  {
   "cell_type": "code",
   "execution_count": 3,
   "metadata": {
    "collapsed": false
   },
   "outputs": [
    {
     "name": "stdout",
     "output_type": "stream",
     "text": [
      "docid,actualdate,inferreddate,firstpub,recept,recordid,OCLC,author,imprint,enumcron,title,pubrev,judge,impaud,yrrev,pubname,birth,gender,nationality,othername,notes,canon\r\n",
      "loc.ark+=13960=t8sb4zz1q,1921,1921,1921,addcanon,537314,,\"Lawrence, D. H.\",New York;T. Seltzer;1921.,,Tortoises,,,,,,1885,m,uk,,,y\r\n",
      "uc1.b3342759,1919,1919,1919,random,7930862,,\"Wigren, Bessie C.\",Boston;The Poet Lore Company;c1919,,Summer wind,,,,,,1874,f,us,,,\r\n",
      "uc1.b4100590,1918,1918,1918,reviewed,6154122,2143179,\"Waugh, Alec,\",London;G. Richards;1918.,,Resentment,rev,,,1918,EGO,1898,m,uk,,,\r\n",
      "uc1.b3340220,1918,1918,1918,reviewed,7917249,12688503,\"Nightingale, M.\",Oxford [Oxfordshire;B.H. Blackwell;1918.,,Verses wise and otherwise,rev,neg,,1919,EGO,1879,f,uk,,,\r\n",
      "uc2.ark+=13960=t0ft8gj1k,1918,1918,1918,reviewed,7657411,2518108,\"Faber, Geoffrey,\",\"Oxford;B. H. Blackwell;New York;Longmans, Green & Co.;1918.\",,In the valley of vision,rev,,,1918,EGO,1889,m,uk,,,\r\n",
      "uc2.ark+=13960=t6k070h7g,1918,1918,1918,reviewed,6607061,2809404,\"Farjeon, Eleanor,\",\"Oxford;B.H. Blackwell;New York;Sold in America by Longmans, Green;1918\",,Sonnets and poems,rev,,,1918,EGO,1881,f,uk,,,\r\n",
      "miun.abr7660.0001.001,1918,1918,1918,reviewed,389498,736313,\"Ford, Ford Madox,\",London;John Lane;New York;John Lane company;1918.,,\"On Heaven, and poems written on active service\",rev,,,1918,EGO,1873,m,uk,,,\r\n",
      "mdp.39015008296884,1918,1918,1918,random,1187193,,\"Thomas, Edward,\",London;Selwyn & Blount;1918.,,Last poems,,,,,,1878,m,uk,,Well-known,y\r\n",
      "njp.32101067680247,1918,1918,1918,random,8963885,,\"Carmichael, Amy,\",Edinburgh;Oliphant;1918,,Made in the pans,,,,,,1867,f,uk,,,\r\n",
      "loc.ark+=13960=t3902s17h,1918,1918,1918,random,9577666,,\"Gruse, Edward.\",Boston;The Gorham Press;1918.,,Echoes of democracy,,,,,,1884,m,us,,,\r\n",
      "loc.ark+=13960=t40s0803k,1918,1918,1918,random,9568238,,\"Jenness, Burt Franklin,\",\"Boston, The Cornhill Company;c1918\",,Man-o'-war rhymes,,,,,,1876,m,us,,,\r\n",
      "loc.ark+=13960=t7pn9zm6f,1918,1918,1918,random,7665565,,\"McClure, John Peebles,\",New York;A. A. Knopf;1918.,,Airs and ballads,,,,,,1893,m,us,,,\r\n",
      "mdp.39015013402501,1918,1918,1918,addcanon,537645,,\"Lawrence, D. H.\",New York;B. W. Huebsch;1918.,,Look! We Have Come Through,,,,,,1885,m,uk,,,y\r\n",
      "uc1.b3626228,1917,1917,1917,reviewed,309384,795110,\"Aiken, Conrad,\",Boston;The Four Seas Company;1917.,,\"Nocturne of remembered spring, and other poems\",rev,,,1918,EGO,1889,m,us,,,\r\n",
      "uc2.ark+=13960=t80k27j8j,1917,1917,1917,reviewed,1838375,1006049,\"Eliot, T. S.\",London;The Egoist Ltd. ...;1917.,,Prufrock and other observations,rev,pos,,1917,EGO,1888,m,us,,,y\r\n",
      "uc1.b4100506,1917,1917,1917,reviewed,6154086,3545363,\"Campbell, Joseph,\",Dublin;London;Maunsel;1917.;(Dublin;George Roberts),,Earth of Cualann,rev,pos,,1917,EGO,1879,m,ir,Seosamh Mac Cathmhaoil,,\r\n",
      "loc.ark+=13960=t0dv25v7j,1917,1917,1917,random,9565056,,\"Reed, Helen Leah,\",Boston;De Wolfe and Fiske;c1917.,,\"Memorial Day, and other verse (original and translated)\",,,,,,1860,f,us,,,\r\n",
      "loc.ark+=13960=t76t19455,1917,1917,1917,random,6517209,,\"Bachtell, Paul B.\",Los Angeles;Baumgardt Publishing Company;1917.,,At Lucifer's portals,,,,,,1890,m,us,,,\r\n",
      "uc2.ark+=13960=t6736mr5n,1917,1917,1917,random,6228739,,\"Aikins, Carroll.\",\"Boston;Sherman, French & Company;1917.\",,Poems,,,,,,1888,m,ca,,,\r\n"
     ]
    }
   ],
   "source": [
    "!head -n20 poemeta.csv"
   ]
  },
  {
   "cell_type": "code",
   "execution_count": null,
   "metadata": {
    "collapsed": true
   },
   "outputs": [],
   "source": []
  },
  {
   "cell_type": "code",
   "execution_count": null,
   "metadata": {
    "collapsed": true
   },
   "outputs": [],
   "source": []
  },
  {
   "cell_type": "markdown",
   "metadata": {},
   "source": [
    "## Diving into `replicate.py`\n",
    "\n",
    "So this is not exact copy of replicate.py, instead we have *defactored* the code by starting at the branch point at line 45 of replicate.py (git commit e2b5b8f9a86d3f80360865a6628488619f7849d6). Basically everything after `if command == 'full':` and before `elif command == 'quarters':` \n",
    "\n",
    "MJ: The 'rest' of this module basically splits of 6 branches of the process related to the six possible ways of carving up the data `{\"full\", \"quarters\", \"nations\", \"genders\", \"canon\", \"halves\"}`, each option sets the different paramaters for the analytic process associated with that specific command. \n",
    "\n",
    "For reasons of feasibility we will only examine the first branching off tied to the command 'full'.\n",
    "'Full' means: \n",
    "> process all 700 volumes model represented in Fig. 1 of the article \n",
    "\n",
    "(cf. \"model the full 700-volume dataset using default settings\" above)\n"
   ]
  },
  {
   "cell_type": "code",
   "execution_count": 4,
   "metadata": {
    "collapsed": true
   },
   "outputs": [],
   "source": [
    "## PATHS.\n",
    "\n",
    "sourcefolder = 'poems/'\n",
    "extension = '.poe.tsv'\n",
    "classpath = 'poemeta.csv'\n",
    "outputpath = 'mainmodelpredictions.csv'\n",
    "\n",
    "## EXCLUSIONS.\n",
    "\n",
    "excludeif = dict()\n",
    "excludeif['pubname'] = 'TEM'\n",
    "# We're not using reviews from Tait's.\n",
    "\n",
    "excludeif['recept'] = 'addcanon'\n",
    "# We don't ordinarily include canonical volumes that were not in either sample.\n",
    "# These are included only if we're testing the canon specifically.\n",
    "\n",
    "excludeifnot = dict()\n",
    "excludeabove = dict()\n",
    "excludebelow = dict()\n",
    "\n",
    "excludebelow['firstpub'] = 1700\n",
    "excludeabove['firstpub'] = 1950\n",
    "sizecap = 360\n",
    "\n",
    "# For more historically-interesting kinds of questions, we can limit the part\n",
    "# of the dataset that gets TRAINED on, while permitting the whole dataset to\n",
    "# be PREDICTED. (Note that we always exclude authors from their own training\n",
    "# set; this is in addition to that.) The variables futurethreshold and\n",
    "# pastthreshold set the chronological limits of the training set, inclusive\n",
    "# of the threshold itself.\n",
    "\n",
    "## THRESHOLDS\n",
    "\n",
    "futurethreshold = 1925\n",
    "pastthreshold = 1800\n",
    "\n",
    "# CLASSIFY CONDITIONS\n",
    "\n",
    "positive_class = 'rev'\n",
    "category2sorton = 'reviewed'\n",
    "datetype = 'firstpub'\n",
    "numfeatures = 3200\n",
    "regularization = .00007"
   ]
  },
  {
   "cell_type": "markdown",
   "metadata": {},
   "source": []
  },
  {
   "cell_type": "markdown",
   "metadata": {},
   "source": [
    "The code cell above is the specification of a bunch of parameters. It is a pretty inn"
   ]
  },
  {
   "cell_type": "code",
   "execution_count": 5,
   "metadata": {
    "collapsed": true
   },
   "outputs": [],
   "source": [
    "# rawaccuracy, allvolumes, coefficientuples = pc.create_model(paths, exclusions, thresholds, classifyconditions)\n"
   ]
  },
  {
   "cell_type": "markdown",
   "metadata": {},
   "source": [
    "This is the point in replicate.py where the script calls out to a function in a separate file, `parallel_crossvalidate.py`. \n",
    "\n",
    "This function, `create_model`, does computational work that we don't want to *step over* because it is integral to the computational narrative. So, rather than step over the function, we are going *step into* the function an copy its contents into the notebook.\n"
   ]
  },
  {
   "cell_type": "markdown",
   "metadata": {},
   "source": [
    "So, we are now stepping into the file `prallel_crossvalidate.py` and specifically diving down into the `create_model` function. We have copied the contents of `create_model` below "
   ]
  },
  {
   "cell_type": "markdown",
   "metadata": {},
   "source": [
    "## Diving into `parallel_crossvalidate.py`\n",
    "\n",
    "specifically, we are diving into the `create_model` function\n",
    "\n"
   ]
  },
  {
   "cell_type": "markdown",
   "metadata": {},
   "source": []
  },
  {
   "cell_type": "code",
   "execution_count": 6,
   "metadata": {
    "collapsed": false
   },
   "outputs": [],
   "source": [
    "import os # DEFACTORING CODE\n",
    "\n",
    "\n",
    "# def create_model(paths, exclusions, thresholds, classifyconditions):\n",
    "\n",
    "''' This is the main function in the module.\n",
    "It can be called externally; it's also called\n",
    "if the module is run directly.\n",
    "'''\n",
    "verbose = False\n",
    "\n",
    "if not sourcefolder.endswith('/'):\n",
    "    sourcefolder = sourcefolder + '/'\n",
    "\n",
    "# This just makes things easier.\n",
    "\n",
    "# Get a list of files.\n",
    "allthefiles = os.listdir(sourcefolder)\n",
    "# random.shuffle(allthefiles)\n",
    "\n",
    "volumeIDs = list()\n",
    "volumepaths = list()\n",
    "\n",
    "for filename in allthefiles:\n",
    "\n",
    "    if filename.endswith(extension):\n",
    "        volID = filename.replace(extension, \"\")\n",
    "        # The volume ID is basically the filename minus its extension.\n",
    "        # Extensions are likely to be long enough that there is little\n",
    "        # danger of accidental occurrence inside a filename. E.g.\n",
    "        # '.fic.tsv'\n",
    "        path = sourcefolder + filename\n",
    "        volumeIDs.append(volID)\n",
    "        volumepaths.append(path)"
   ]
  },
  {
   "cell_type": "markdown",
   "metadata": {},
   "source": [
    "### Diving into `metafilter.get_metadata()`\n",
    "\n",
    "`metadict = metafilter.get_metadata(classpath, volumeIDs, excludeif, excludeifnot, excludebelow, excludeabove)`\n",
    "\n",
    "Ted's code calls out to `metafilter.py` which contains several functions for reading the metadata csv file."
   ]
  },
  {
   "cell_type": "code",
   "execution_count": 7,
   "metadata": {
    "collapsed": false
   },
   "outputs": [
    {
     "name": "stdout",
     "output_type": "stream",
     "text": [
      "{'recept': 'addcanon', 'pubname': 'TEM'}\n",
      "{}\n",
      "{'firstpub': 1700}\n",
      "{'firstpub': 1950}\n"
     ]
    }
   ],
   "source": [
    "# reminder of how Ted (or is it us?) sets the variables above\n",
    "print(excludeif)\n",
    "print(excludeifnot)\n",
    "print(excludebelow)\n",
    "print(excludeabove)"
   ]
  },
  {
   "cell_type": "code",
   "execution_count": 8,
   "metadata": {
    "collapsed": true
   },
   "outputs": [],
   "source": [
    "# DEFACTORING\n",
    "# we need these helper functions for execute the next code cell\n",
    "import csv \n",
    "\n",
    "def dirty_pairtree(htid):\n",
    "    period = htid.find('.')\n",
    "    prefix = htid[0:period]\n",
    "    postfix = htid[(period+1): ]\n",
    "    if '=' in postfix:\n",
    "        postfix = postfix.replace('+',':')\n",
    "        postfix = postfix.replace('=','/')\n",
    "    dirtyname = prefix + \".\" + postfix\n",
    "    return dirtyname\n",
    "\n",
    "def forceint(astring):\n",
    "    try:\n",
    "        intval = int(astring)\n",
    "    except:\n",
    "        intval = 0\n",
    "\n",
    "    return intval"
   ]
  },
  {
   "cell_type": "code",
   "execution_count": 9,
   "metadata": {
    "collapsed": false
   },
   "outputs": [
    {
     "name": "stdout",
     "output_type": "stream",
     "text": [
      "poemeta.csv\n",
      "tossing loc.ark:/13960/t8sb4zz1q\n",
      "tossing mdp.39015013402501\n",
      "tossing mdp.39015011913525\n",
      "tossing hardywessexpoems189.hardywessexpoems1898\n",
      "tossing gerardmhopkins191.gerardmhopkins1918\n",
      "tossing loc.ark:/13960/t3fx82c2q\n",
      "tossing emilydickinso.emilydickinson\n",
      "tossing ellisbell184.ellisbell1848\n",
      "We have 8 volumes in missing in metadata, and\n",
      "0 volumes missing in the directory.\n",
      "set()\n"
     ]
    }
   ],
   "source": [
    "# def get_metadata(classpath, volumeIDs, excludeif, excludeifnot, excludebelow, excludeabove):\n",
    "'''\n",
    "As the name would imply, this gets metadata matching a given set of volume\n",
    "IDs. It returns a dictionary containing only those volumes that were present\n",
    "both in metadata and in the data folder.\n",
    "\n",
    "It also accepts four dictionaries containing criteria that will exclude volumes\n",
    "from the modeling process.\n",
    "'''\n",
    "print(classpath)\n",
    "metadict = dict()\n",
    "\n",
    "with open(classpath, encoding = 'utf-8') as f:\n",
    "    reader = csv.DictReader(f)\n",
    "\n",
    "    anonctr = 0\n",
    "\n",
    "    for row in reader:\n",
    "        volid = dirty_pairtree(row['docid'])\n",
    "        theclass = row['recept'].strip()\n",
    "\n",
    "        # I've put 'remove' in the reception column for certain\n",
    "        # things that are anomalous.\n",
    "        if theclass == 'remove':\n",
    "            continue\n",
    "\n",
    "        bail = False\n",
    "        for key, value in excludeif.items():\n",
    "            if row[key] == value:\n",
    "                bail = True\n",
    "        for key, value in excludeifnot.items():\n",
    "            if row[key] != value:\n",
    "                bail = True\n",
    "        for key, value in excludebelow.items():\n",
    "            if forceint(row[key]) < value:\n",
    "                bail = True\n",
    "        for key, value in excludeabove.items():\n",
    "            if forceint(row[key]) > value:\n",
    "                bail = True\n",
    "\n",
    "        if bail:\n",
    "            print(\"tossing \"+volid) # DEFACTORING CODE\n",
    "            continue\n",
    "\n",
    "        birthdate = forceint(row['birth'])\n",
    "\n",
    "        pubdate = forceint(row['inferreddate'])\n",
    "\n",
    "        gender = row['gender'].rstrip()\n",
    "        nation = row['nationality'].rstrip()\n",
    "\n",
    "        #if pubdate >= 1880:\n",
    "            #continue\n",
    "\n",
    "        if nation == 'ca':\n",
    "            nation = 'us'\n",
    "        elif nation == 'ir':\n",
    "            nation = 'uk'\n",
    "        # I hope none of my Canadian or Irish friends notice this.\n",
    "\n",
    "        notes = row['notes'].lower()\n",
    "        author = row['author']\n",
    "        if len(author) < 1 or author == '<blank>':\n",
    "            author = \"anonymous\" + str(anonctr)\n",
    "            anonctr += 1\n",
    "\n",
    "        title = row['title']\n",
    "        canon = row['canon']\n",
    "\n",
    "        # I'm creating two distinct columns to indicate kinds of\n",
    "        # literary distinction. The reviewed column is based purely\n",
    "        # on the question of whether this work was in fact in our\n",
    "        # sample of contemporaneous reviews. The obscure column incorporates\n",
    "        # information from post-hoc biographies, which trumps\n",
    "        # the question of reviewing when they conflict.\n",
    "\n",
    "        if theclass == 'random':\n",
    "            obscure = 'obscure'\n",
    "            reviewed = 'not'\n",
    "        elif theclass == 'reviewed':\n",
    "            obscure = 'known'\n",
    "            reviewed = 'rev'\n",
    "        elif theclass == 'addcanon':\n",
    "            print(\"this is executing\") # DEFACTORING CODE\n",
    "            obscure = 'known'\n",
    "            reviewed = 'addedbecausecanon'\n",
    "        else:\n",
    "            print(\"Missing class\" + theclass)\n",
    "\n",
    "        if notes == 'well-known':\n",
    "            obscure = 'known'\n",
    "        if notes == 'obscure':\n",
    "            obscure = 'obscure'\n",
    "\n",
    "        if canon == 'y':\n",
    "            if theclass == 'addcanon':\n",
    "                actually = 'Norton, added'\n",
    "            else:\n",
    "                actually = 'Norton, in-set'\n",
    "        elif reviewed == 'rev':\n",
    "            actually = 'reviewed'\n",
    "        else:\n",
    "            actually = 'random'\n",
    "\n",
    "        metadict[volid] = dict()\n",
    "        metadict[volid]['reviewed'] = reviewed\n",
    "        metadict[volid]['obscure'] = obscure\n",
    "        metadict[volid]['pubdate'] = pubdate\n",
    "        metadict[volid]['birthdate'] = birthdate\n",
    "        metadict[volid]['gender'] = gender\n",
    "        metadict[volid]['nation'] = nation\n",
    "        metadict[volid]['author'] = author\n",
    "        metadict[volid]['title'] = title\n",
    "        metadict[volid]['canonicity'] = actually\n",
    "        metadict[volid]['pubname'] = row['pubname']\n",
    "        metadict[volid]['firstpub'] = forceint(row['firstpub'])\n",
    "\n",
    "# These come in as dirty pairtree; we need to make them clean.\n",
    "\n",
    "cleanmetadict = dict()\n",
    "allidsinmeta = set([x for x in metadict.keys()])\n",
    "allidsindir = set([dirty_pairtree(x) for x in volumeIDs])\n",
    "missinginmeta = len(allidsindir - allidsinmeta)\n",
    "missingindir = len(allidsinmeta - allidsindir)\n",
    "print(\"We have \" + str(missinginmeta) + \" volumes in missing in metadata, and\")\n",
    "print(str(missingindir) + \" volumes missing in the directory.\")\n",
    "print(allidsinmeta - allidsindir)\n",
    "\n",
    "for anid in volumeIDs:\n",
    "    dirtyid = dirty_pairtree(anid)\n",
    "    if dirtyid in metadict:\n",
    "        cleanmetadict[anid] = metadict[dirtyid]\n",
    "\n",
    "metadict = cleanmetadict #DEFACTORING CODE changed this from return cleanmetadict to setting the metadict variable which is expected below"
   ]
  },
  {
   "cell_type": "markdown",
   "metadata": {},
   "source": [
    "What just happened here? Well, the code above loaded the `poemeta.csv` file and filtered out a bunch of rows (based upon the `excludeif`, `excludeifnot`, `excludeabove`, and `excludebelow` variables) and also normalizes some of the `nation` data (normalizing is a pretty clinical way of lumping Canada with the United States and Ireland with the UK). Nationality is not a factor in the Pace of Change analysis, but it is interesting to see this code here, it implies this code is used in other analyses.\n",
    "\n",
    "The other important thing this code cell does is split the `recept` column in the `poemeta.csv` into two columns, `obscure` and `reviewed`. There is a bit of logic here that we do not fully grasp at this point. From what we can tell from the code and Ted's comment, there poems that are reviewed, there are poems that are obscure, and there are poems that are not in the reviewed set but are never-the-less part of the cannon. This means they are \"known\" and, according to Ted's comment, trumps the conflict when the author is known (`obscure = 'known'`) but not explicitly in the reviewed set. \n",
    "\n",
    "We have discovered after adding some `# DEFACTORING CODE` snippets that this code never actually runs. All of the poems with the 'addcanon' property are tossed out and the conflict, where the poem is known by in the random set, never appears to occur. Conjector: is this a remnant of Ted refactoring the code due to changes in the analysis process or just working with different data or something we cannot possible conceive. What was the author's intent? \n",
    "\n",
    "We know that poems with the 'addcanon' in the 'recept' column are being excluded because they are included in the `excludeif` dictionary. Why? The code in the first code cell [TODO: name cells for PROV naming and narrative reference]  provide somewhat of an explanation\n",
    "\n",
    "```\n",
    "excludeif['recept'] = 'addcanon'\n",
    "# We don't ordinarily include canonical volumes that were not in either sample.\n",
    "# These are included only if we're testing the canon specifically.\n",
    "```\n",
    "\n",
    "It should noted we spent a considerable amount of time interpreting the code that handled this particular situation before realizing that it would never be executed because of the settings in the `excludeif` dictionary. That makes us look stupid, but we also now have a more intimate understanding and relationship with the code. or maybe we are still stupid."
   ]
  },
  {
   "cell_type": "markdown",
   "metadata": {},
   "source": [
    "### label_classes\n",
    "\n",
    "We have flattened [pulled in? not sure what term to use here, we need some terminology for DEFACTORING as a method] the metafilter.label_classes() function. This function reads the metadata properties and puts all entries into one of two bins: *positive* or *negative*."
   ]
  },
  {
   "cell_type": "code",
   "execution_count": 10,
   "metadata": {
    "collapsed": true
   },
   "outputs": [],
   "source": [
    "# Now that we have a list of volumes with metadata, we can select the groups of IDs\n",
    "# that we actually intend to contrast. If we want to us more or less everything,\n",
    "# this may not be necessary. But in some cases we want to use randomly sampled subsets.\n",
    "\n",
    "# The default condition here is\n",
    "\n",
    "# category2sorton = 'reviewed'\n",
    "# positive_class = 'rev'\n",
    "# sizecap = 350\n",
    "# A sizecap less than one means, no sizecap.\n",
    "\n",
    "#IDsToUse, classdictionary = label_classes(metadict, category2sorton, positive_class, sizecap)\n",
    "\n",
    "import random # DEFACTORING CODE\n",
    "\n",
    "# def label_classes(metadict, category2sorton, positive_class, sizecap):\n",
    "''' This takes as input the metadata dictionary generated\n",
    "by get_metadata. It subsets that dictionary into a\n",
    "positive class and a negative class. Instances that belong\n",
    "to neither class get ignored.\n",
    "'''\n",
    "\n",
    "all_instances = set([x for x in metadict.keys()])\n",
    "\n",
    "# The first stage is to find positive instances.\n",
    "\n",
    "all_positives = set()\n",
    "\n",
    "for key, value in metadict.items():\n",
    "    if value[category2sorton] == positive_class:\n",
    "        all_positives.add(key)"
   ]
  },
  {
   "cell_type": "markdown",
   "metadata": {},
   "source": [
    "This is where ted's code distinguishes the red triangles from the grey dots in figure one. If poem metadata has the value 'rev' for the 'reviewed' property then it is labeled as a positive. The next cell does the same for all negatives and removes any items that were added because of the canon."
   ]
  },
  {
   "cell_type": "code",
   "execution_count": 11,
   "metadata": {
    "collapsed": true
   },
   "outputs": [],
   "source": [
    "all_negatives = all_instances - all_positives\n",
    "iterator = list(all_negatives)\n",
    "for item in iterator:\n",
    "    if metadict[item]['reviewed'] == 'addedbecausecanon':\n",
    "        all_negatives.remove(item)"
   ]
  },
  {
   "cell_type": "markdown",
   "metadata": {},
   "source": [
    "The negative labels are assigned to all instances that are not in the set of positive instances. There is additional code that filters out anything with 'addedbecausecannon' set for the 'reviewed' property, but this code should never execute. This is a vestige of testing with the canon."
   ]
  },
  {
   "cell_type": "code",
   "execution_count": 12,
   "metadata": {
    "collapsed": false
   },
   "outputs": [
    {
     "name": "stdout",
     "output_type": "stream",
     "text": [
      "360\n"
     ]
    }
   ],
   "source": [
    "if sizecap > 0 and len(all_positives) > sizecap:\n",
    "    positives = random.sample(all_positives, sizecap)\n",
    "else:\n",
    "    positives = list(all_positives)\n",
    "    print(len(all_positives))"
   ]
  },
  {
   "cell_type": "markdown",
   "metadata": {},
   "source": [
    "Because we see `360` being printed by the code above we know he is not sampling from the positives list. Ted's comment above, seems to indicate the sizecap is 350, but if you look at the code in the first code cell, the sizecap is *actually* 360...which just so happens to be the number of positive labeled instances. Funny. Looks like Ted updated his sizecap, but didn't update his comment.\n",
    "\n",
    "How was the sizecap determined? Performance and scalability? Perhaps some of the test sets were much larger than 360 instances?"
   ]
  },
  {
   "cell_type": "code",
   "execution_count": 13,
   "metadata": {
    "collapsed": false
   },
   "outputs": [],
   "source": [
    "# If there's a sizecap we also want to ensure classes have\n",
    "# matching sizes and roughly equal distributions over time.\n",
    "\n",
    "numpositives = len(all_positives)\n",
    "\n",
    "if sizecap > 0 and len(all_negatives) > numpositives:\n",
    "    if not 'date' in category2sorton:\n",
    "        available_negatives = list(all_negatives)\n",
    "        negatives = list()\n",
    "\n",
    "        for anid in positives:\n",
    "            date = metadict[anid]['pubdate']\n",
    "\n",
    "            available_negatives = sort_by_proximity(available_negatives, metadict, date)\n",
    "            selected_id = available_negatives.pop(0)\n",
    "            negatives.append(selected_id)\n",
    "\n",
    "    else:\n",
    "        # if we're dividing classes by date, we obvs don't want to\n",
    "        # ensure equal distributions over time.\n",
    "\n",
    "        negatives = random.sample(all_negatives, sizecap)\n",
    "\n",
    "else:\n",
    "    negatives = list(all_negatives)"
   ]
  },
  {
   "cell_type": "markdown",
   "metadata": {},
   "source": [
    "So most of the code in the cell above does not execute because we are not sampling from the positives distribution. \n",
    "\n",
    "This code cell makes an un-excuted reference to a function `sort_by_proximity()` which we are not including because it is not part of the execution path we are documenting in this notebook. This has provoked a conversation about if we should remove the code from the conditional blocks from the notebook. Yet, keeping them maintains the residue of Ted's development and thinking about what he needs to do with the data and in the analysis. \n",
    "\n",
    "These issues point to properties of code that make it difficult to review or critique, that is, we are in this case, reviewing a single execution path of the code, not the code itself. So we are dealing with a *code-criticism conundrum*: What is the required or adequate breadth and depth of the critique? The decision to include or not include `sort_by_proximity()` is a breadth issue. How broad should we be in including code that does not execute? Note, we are including code from a conditional block that doesn't execute, but are not going out the additional step to include non-executed function defined elsewhere in the code. The decision to include or not include code from the standard library, code not written by Ted, is a depth issue. In the code cell above, there are many functions we are *stepping over*, like `len`, `list`, `append`, `pop`, `random.sample`, etc., because they are black-boxed. There is no need to critique or test or inspect those functions because they have been tested and evaluated  thoroughly outside of the scope of Ted's project [We need a strong REF here].\n",
    "\n",
    "Full reflexivity here would also mean that we note that the 'rules of the game' for code criticism aren't quite clear yet and therefore we are possibly feeling our way through an emerging methodological standard of practice for code criticism. As we see vestiges of Ted evolution in thinking in his code, this notebook is capturing the evolution of our thinking about DEFACTORING as a practice. \n",
    "\n",
    "REF: Hiller and Joris about the tension between code's textual and processual dimensions.\n"
   ]
  },
  {
   "cell_type": "code",
   "execution_count": 14,
   "metadata": {
    "collapsed": false
   },
   "outputs": [
    {
     "name": "stdout",
     "output_type": "stream",
     "text": [
      "\n",
      "We have 360 positive, and\n",
      "360 negative instances.\n"
     ]
    }
   ],
   "source": [
    "# Now we have two lists of ids.\n",
    "\n",
    "IDsToUse = set()\n",
    "classdictionary = dict()\n",
    "\n",
    "print()\n",
    "print(\"We have \" + str(len(positives)) + \" positive, and\")\n",
    "print(str(len(negatives)) + \" negative instances.\")\n",
    "\n",
    "for anid in positives:\n",
    "    IDsToUse.add(anid)\n",
    "    classdictionary[anid] = 1\n",
    "\n",
    "for anid in negatives:\n",
    "    IDsToUse.add(anid)\n",
    "    classdictionary[anid] = 0\n",
    "\n",
    "for key, value in metadict.items():\n",
    "    if value['reviewed'] == 'addedbecausecanon':\n",
    "        IDsToUse.add(key)\n",
    "        classdictionary[key] = 0\n",
    "# We add the canon supplement, but don't train on it.\n",
    "\n",
    "# return IDsToUse, classdictionary"
   ]
  },
  {
   "cell_type": "markdown",
   "metadata": {},
   "source": [
    "## popping out of label_classes()\n",
    "\n",
    "\n",
    "Now we return to the execution of the `create_model` function from `parallel_crossvalidate.py`"
   ]
  },
  {
   "cell_type": "code",
   "execution_count": 15,
   "metadata": {
    "collapsed": true
   },
   "outputs": [],
   "source": [
    "# DEFACTORING \n",
    "# We need this import and functions for the code cell below to run\n",
    "\n",
    "from collections import Counter \n",
    "\n",
    "def infer_date(metadictentry, datetype):\n",
    "    if datetype == 'pubdate':\n",
    "        return metadictentry[datetype]\n",
    "    elif datetype == 'firstpub':\n",
    "        firstpub = metadictentry['firstpub']\n",
    "        if firstpub > 1700 and firstpub < 1950:\n",
    "            return firstpub\n",
    "        else:\n",
    "            return metadictentry['pubdate']\n",
    "    else:\n",
    "        sys.exit(0)"
   ]
  },
  {
   "cell_type": "code",
   "execution_count": 16,
   "metadata": {
    "collapsed": false
   },
   "outputs": [],
   "source": [
    "# make a vocabulary list and a volsize dict\n",
    "wordcounts = Counter()\n",
    "\n",
    "volspresent = list()\n",
    "orderedIDs = list()\n",
    "\n",
    "positivecounts = dict()\n",
    "negativecounts = dict()\n",
    "\n",
    "for volid, volpath in zip(volumeIDs, volumepaths):\n",
    "    if volid not in IDsToUse:\n",
    "        continue\n",
    "    else:\n",
    "        volspresent.append((volid, volpath))\n",
    "        orderedIDs.append(volid)\n",
    "\n",
    "    date = infer_date(metadict[volid], datetype)\n",
    "    if date < pastthreshold or date > futurethreshold:\n",
    "        continue\n",
    "    else:\n",
    "        with open(volpath, encoding = 'utf-8') as f:\n",
    "            for line in f:\n",
    "                fields = line.strip().split('\\t')\n",
    "                if len(fields) > 2 or len(fields) < 2:\n",
    "                    # print(line)\n",
    "                    continue\n",
    "                word = fields[0]\n",
    "                if len(word) > 0 and word[0].isalpha():\n",
    "                    count = int(fields[1])\n",
    "                    wordcounts[word] += 1\n",
    "                    # for initial feature selection we use the number of\n",
    "                    # *documents* that contain a given word,\n",
    "                    # so it's just +=1.\n",
    "\n",
    "vocablist = [x[0] for x in wordcounts.most_common(numfeatures)]\n",
    "\n",
    "# vocablist = binormal_select(vocablist, positivecounts, negativecounts, totalposvols, totalnegvols, 3000)\n",
    "# Feature selection is deprecated. There are cool things\n",
    "# we could do with feature selection,\n",
    "# but they'd improve accuracy by 1% at the cost of complicating our explanatory task.\n",
    "# The tradeoff isn't worth it. Explanation is more important.\n",
    "# So we just take the most common words (by number of documents containing them)\n",
    "# in the whole corpus. Technically, I suppose, we could crossvalidate that as well,\n",
    "# but *eyeroll*."
   ]
  },
  {
   "cell_type": "code",
   "execution_count": 17,
   "metadata": {
    "collapsed": false
   },
   "outputs": [
    {
     "name": "stdout",
     "output_type": "stream",
     "text": [
      "3200\n",
      "['that', 'but', 'not', 'is', 'all', 'and', 'with', 'in', 'the', 'of', 'to', 'a', 'for', 'by', 'as', 'on', 'at', 'i', 'one', 'who', 'it', 'from', 'his', 'when', 'they', 'be', 'no', 'their', 'or', 'this', 'he', 'like', 'now', 'was', 'so', 'them', 'have', 'we', 'then', 'there', 'where', 'see', 'are', 'will', 'its', 'her', 'were', 'heart', 'over', 'day']\n"
     ]
    }
   ],
   "source": [
    "# DEFACTORING INSPECTION\n",
    "# What is in vocablist?\n",
    "print(len(vocablist))\n",
    "print(vocablist[0:50])"
   ]
  },
  {
   "cell_type": "markdown",
   "metadata": {},
   "source": [
    "This is an important section of code because it contains the code for the selection of the 3200 word-features, or \"variables\" as he calls them on page 35 (the methodology appendix), used in the logistic regression. Most notable is the code that has been commented out at the very end of the block. The heuristic for feature selection was simply to select the 3200 most common words, a simple and easy to explain technique (also easy to implement with Python's Counter collection). The comment discusses an alternative feature selection technique using binormal selection which he has implemented in the function `binormal_selection`. Because this code is commented out, we do not explore it in-depth here. More interesting is the rationale about *why* it has been commented out:\n",
    "\n",
    "> There are cool things we could do with feature selection, but they'd improve accuracy by 1% at the cost of complicating our explanatory task.\n",
    "\n",
    "What we are seeing in this comment is a road not taken, which normally the DEFACTORING method would ignore, but the code, the comment, and the implications are crucially important. This reveals much about about Ted's reasoning on the effort and energy he wishes to invest in *explaining* method. There is judgment about the expertise of his audience. This points to a crucial problem at the intersection of humanities and computer science where the dissemination of description of statistical methods are inhibiting or hindering the full realization of the epistemlogical richness of computation as a method of inquiry. Ted is holding himself back, a form of self-censorship, because of a perceived Audience That cannot understand a binormal feature selection technique without a significant amount of work to explain its epistomolgical implications. \n",
    "\n",
    "We think this snippet of code is significant and justifies our method because it is only through close code review were we able to uncover these traces of Ted's thinking and experimentation. We can see epistomolary roads not taken because of strenuous dialectical relationship between the computational potentiality and the disciplinary acceptability. \n",
    "\n",
    "There is more for us to say and think about this vinette. But we need to move on.\n",
    "\n",
    "Aside: we couldn't help ourselves and did a little digging into the `binormal_selection` function. There is an oblique reference to \"see forman\" which we think refers to George Forman who has written several articles on feature selection in texts. We should confirm with Ted.\n",
    "- http://dl.acm.org/citation.cfm?id=944974\n",
    "- http://link.springer.com/chapter/10.1007%2F3-540-45681-3_13\n",
    "- We think this is the paper: http://www.hpl.hp.com/techreports/2007/HPL-2007-32R1.pdf\n",
    "\n"
   ]
  },
  {
   "cell_type": "code",
   "execution_count": 18,
   "metadata": {
    "collapsed": true
   },
   "outputs": [],
   "source": [
    "donttrainon = list()\n",
    "\n",
    "# Here we create a list of volumed IDs not to be used for training.\n",
    "# For instance, we have supplemented the dataset with volumes that\n",
    "# are in the Norton but that did not actually occur in random\n",
    "# sampling. We want to make predictions for these, but never use\n",
    "# them for training.\n",
    "\n",
    "for idx1, anid in enumerate(orderedIDs):\n",
    "    reviewedstatus = metadict[anid]['reviewed']\n",
    "    date = infer_date(metadict[anid], datetype)\n",
    "    if reviewedstatus == 'addedbecausecanon':\n",
    "        donttrainon.append(idx1)\n",
    "    elif date < pastthreshold or date > futurethreshold:\n",
    "        donttrainon.append(idx1)\n",
    "\n",
    "authormatches = [list(donttrainon) for x in range(len(orderedIDs))]\n",
    "# For every index in authormatches, identify a set of indexes that have\n",
    "# the same author. Obvs, there will always be at least one.\n",
    "\n",
    "# Since we are going to use these indexes to exclude rows, we also add\n",
    "# all the ids in donttrainon to every volume\n",
    "\n",
    "for idx1, anid in enumerate(orderedIDs):\n",
    "    thisauthor = metadict[anid]['author']\n",
    "    for idx2, anotherid in enumerate(orderedIDs):\n",
    "        otherauthor = metadict[anotherid]['author']\n",
    "        if thisauthor == otherauthor and not idx2 in authormatches[idx1]:\n",
    "            authormatches[idx1].append(idx2)\n",
    "\n",
    "for alist in authormatches:\n",
    "    alist.sort(reverse = True)\n",
    "\n",
    "# I am reversing the order of indexes so that I can delete them from\n",
    "# back to front, without changing indexes yet to be deleted.\n",
    "# This will become important in the modelingprocess module."
   ]
  },
  {
   "cell_type": "code",
   "execution_count": 19,
   "metadata": {
    "collapsed": false
   },
   "outputs": [
    {
     "data": {
      "text/plain": [
       "[]"
      ]
     },
     "execution_count": 19,
     "metadata": {},
     "output_type": "execute_result"
    }
   ],
   "source": [
    "donttrainon"
   ]
  },
  {
   "cell_type": "code",
   "execution_count": 20,
   "metadata": {
    "collapsed": false
   },
   "outputs": [
    {
     "name": "stdout",
     "output_type": "stream",
     "text": [
      "720\n",
      "720\n",
      "[582, 499, 420, 368, 200, 7]\n",
      "[582, 499, 420, 368, 200, 7]\n",
      "uc2.ark+=13960=t3fx7436h\n",
      "uc1.b4104728\n",
      "{'firstpub': 1849, 'pubdate': 1861, 'nation': 'uk', 'author': 'Tennyson, Alfred Tennyson,', 'pubname': 'ER', 'birthdate': 1809, 'canonicity': 'Norton, in-set', 'obscure': 'known', 'title': 'In memoriam', 'reviewed': 'rev', 'gender': 'm'}\n",
      "{'firstpub': 1859, 'pubdate': 1859, 'nation': 'uk', 'author': 'Tennyson, Alfred Tennyson,', 'pubname': 'WR', 'birthdate': 1809, 'canonicity': 'Norton, in-set', 'obscure': 'known', 'title': 'Idyls of the King', 'reviewed': 'rev', 'gender': 'm'}\n"
     ]
    }
   ],
   "source": [
    "#DEFACTORING INSPECTION\n",
    "print(len(orderedIDs))\n",
    "print(len(authormatches))\n",
    "print(authormatches[7])\n",
    "print(authormatches[582])\n",
    "print(orderedIDs[582])\n",
    "print(orderedIDs[499])\n",
    "print(metadict['uc2.ark+=13960=t3fx7436h'])\n",
    "print(metadict['uc1.b4104728'])"
   ]
  },
  {
   "cell_type": "markdown",
   "metadata": {},
   "source": [
    "This is all rote data preparation. He compiles a list that shouldn't be used as training data if the date is incorrect or if the books are part of the \"addedbecauseofcanon\" class (representing a well known author). From this list he compiles a list of authors who have been reviewed and then removing their other works from the list. \n",
    "\n",
    "The inspection code above was necessary for us to understanding the complicated data structure Ted was creating.\n",
    "\n",
    "The list `authormatches` is a list of all the poems and each is a list of other poems by the same author. Essentially this data structure is describing the relations of each poem to other poems, that relation being \"other poems by the same author\". It took us a bit of work to figure out because all of this is obscured by the fact the relations are expressed by list indexes. We are working with abstractions which we assume are important for the `modelingprocess` which is invoked below.\n",
    "\n",
    "The purpose of this is because\n",
    "\n",
    "> ...we did exclude who were already in our reviewed sample for a given genre. (page 34)\n",
    "\n",
    "What we seen in the code is the necessary steps to be able to exclude author already in the reviewed sample, but we don't yet see any reference to genre. Either this is implicit (because all these data are the same genre, poetry) or hasn't been addressed as of yet in the code.\n",
    "\n",
    "Aside: we should try an annotate Ted's narrative in the article to point to the specific moments in the code where he is describing (in english) what is happening in the code."
   ]
  },
  {
   "cell_type": "code",
   "execution_count": 21,
   "metadata": {
    "collapsed": true
   },
   "outputs": [],
   "source": [
    "# DEFACTORING \n",
    "# we need get_features and get_features_with_data when reading in the files in poems/ directory\n",
    "import numpy as np\n",
    "import pandas as pd\n",
    "\n",
    "usedate = False\n",
    "# Leave this flag false unless you plan major\n",
    "# surgery to reactivate the currently-deprecated\n",
    "# option to use \"date\" as a predictive feature.\n",
    "\n",
    "\n",
    "def get_features(wordcounts, wordlist):\n",
    "    numwords = len(wordlist)\n",
    "    wordvec = np.zeros(numwords)\n",
    "    for idx, word in enumerate(wordlist):\n",
    "        if word in wordcounts:\n",
    "            wordvec[idx] = wordcounts[word]\n",
    "\n",
    "    return wordvec\n",
    "\n",
    "# In an earlier version of this script, we sometimes used\n",
    "# \"publication date\" as a feature, to see what would happen.\n",
    "# In the current version, we don't. Some of the functions\n",
    "# and features remain, but they are deprecated. E.g.:\n"
   ]
  },
  {
   "cell_type": "markdown",
   "metadata": {},
   "source": [
    "The function `get_features` simply takes the wordcounts from the parsed poem and filters out any words that are not part of `wordlist` which is the selected features described above."
   ]
  },
  {
   "cell_type": "code",
   "execution_count": 22,
   "metadata": {
    "collapsed": false
   },
   "outputs": [],
   "source": [
    "volsizes = dict()\n",
    "voldata = list()\n",
    "classvector = list()\n",
    "\n",
    "for volid, volpath in volspresent:\n",
    "\n",
    "    with open(volpath, encoding = 'utf-8') as f:\n",
    "        voldict = dict()\n",
    "        totalcount = 0\n",
    "        for line in f:\n",
    "            fields = line.strip().split('\\t')\n",
    "            if len(fields) > 2 or len(fields) < 2:\n",
    "                continue\n",
    "\n",
    "            word = fields[0]\n",
    "            count = int(fields[1])\n",
    "            voldict[word] = count\n",
    "            totalcount += count\n",
    "\n",
    "    date = infer_date(metadict[volid], datetype)\n",
    "    date = date - 1700\n",
    "    if date < 0:\n",
    "        date = 0\n",
    "\n",
    "    if usedate:\n",
    "        features = get_features_with_date(voldict, vocablist, date, totalcount)\n",
    "        voldata.append(features)\n",
    "    else:\n",
    "        features = get_features(voldict, vocablist)\n",
    "        voldata.append(features / (totalcount + 0.001))\n",
    "\n",
    "\n",
    "    volsizes[volid] = totalcount\n",
    "    classflag = classdictionary[volid]\n",
    "    classvector.append(classflag)\n",
    "\n",
    "data = pd.DataFrame(voldata)\n",
    "\n",
    "sextuplets = list()\n",
    "for i, volid in enumerate(orderedIDs):\n",
    "    listtoexclude = authormatches[i]\n",
    "    asixtuple = data, classvector, listtoexclude, i, usedate, regularization\n",
    "    sextuplets.append(asixtuple)"
   ]
  },
  {
   "cell_type": "markdown",
   "metadata": {},
   "source": [
    "This code opens up each of the files in the poems/ directory, parses the file, does some data cleaning with respect to the structure of those files and with dates of poems older than 1700 (this is probably vestage code because we are not suing data a a predictive feature. The important bit is the call to the `get_features` function which throws out the word features that are not part of the list of selected word features as determined by the `most_common()` call above and stored in the `vocablist` variable. \n",
    "\n",
    "\n",
    "We are curious about this code:\n",
    "\n",
    "```\n",
    "voldata.append(features / (totalcount + 0.001))\n",
    "```\n",
    "\n",
    "We understand he is normalizing the data to make volumes of differing sizes comparable. Turning absolute frequencies into relative frequencies. However, we don't know why he is adding 0.001 to the total count. Is this to prevent a potential divide by zero? NOTE: we think that the 0.001 is added so the logistic regession doesn't result in infinite at zero when running the cost function.\n",
    "\n",
    "Sextuplets is a list of tuples with six values. This is the datastructure which will be passed to the modeling process. Each row of `sextuplets` contains all of the necessary data structures to model each poem. because we are generating a new model for each poem, we need to pass a couple parameters to the modeling process (such as which poems to ignore because they are by the same author, `listtoexclude`, when modeling)"
   ]
  },
  {
   "cell_type": "markdown",
   "metadata": {},
   "source": [
    "#### A quick investigation of the six key datastructures\n",
    "\n",
    "The modeling function described in the next section of the notebook relies upon six data structures from \n",
    "\n",
    "- data: a document features matrix. Word features are the columns and volumes are the rows. 720 x 3200\n",
    "- classvector: the classification of documents as either 'reviewed' (1) or 'random' (0).\n",
    "- listtoexclude: the\n",
    "- i: the index of the volume\n",
    "- usedate: a flag indicating if date is a feature. It is not in our case\n",
    "- regularization: a parameter for the scikit-learn LogisticRegression function. hardcoded parameter from the beginning of the notebook."
   ]
  },
  {
   "cell_type": "code",
   "execution_count": 23,
   "metadata": {
    "collapsed": false
   },
   "outputs": [
    {
     "name": "stdout",
     "output_type": "stream",
     "text": [
      "       0         1         2         3         4         5         6     \\\n",
      "0  0.006835  0.008289  0.005817  0.005708  0.004799  0.042972  0.007198   \n",
      "1  0.006666  0.006467  0.007163  0.006467  0.004145  0.031172  0.008523   \n",
      "2  0.013064  0.002969  0.004157  0.010095  0.001781  0.029691  0.007126   \n",
      "3  0.007202  0.006251  0.000775  0.002776  0.001175  0.035708  0.002926   \n",
      "4  0.010812  0.005189  0.004248  0.001786  0.005599  0.032099  0.012767   \n",
      "\n",
      "       7         8         9       ...         3190      3191      3192  \\\n",
      "0  0.013961  0.052534  0.017014    ...     0.000000  0.000000  0.000000   \n",
      "1  0.013928  0.051733  0.020229    ...     0.000033  0.000000  0.000033   \n",
      "2  0.013658  0.049881  0.029097    ...     0.000000  0.000000  0.000000   \n",
      "3  0.008302  0.042335  0.005976    ...     0.000000  0.000025  0.000000   \n",
      "4  0.011995  0.037674  0.018415    ...     0.000048  0.000097  0.000000   \n",
      "\n",
      "       3193      3194      3195      3196      3197      3198      3199  \n",
      "0  0.000036  0.000073  0.000000  0.000036  0.000000  0.000000  0.000036  \n",
      "1  0.000000  0.000000  0.000133  0.000000  0.000099  0.000000  0.000000  \n",
      "2  0.000000  0.000000  0.000000  0.000000  0.000000  0.000000  0.000000  \n",
      "3  0.000025  0.000000  0.000000  0.000050  0.000000  0.000000  0.000050  \n",
      "4  0.000024  0.000000  0.000000  0.000000  0.000000  0.000024  0.000000  \n",
      "\n",
      "[5 rows x 3200 columns]\n",
      "[1, 1, 0, 0, 1, 0, 1, 1, 1, 0, 0, 1, 0, 0, 0, 1, 1, 1, 1, 1, 0, 0, 0, 0, 0, 1, 1, 0, 0, 1, 0, 0, 0, 1, 0, 1, 0, 0, 0, 0, 0, 1, 0, 1, 1, 0, 0, 0, 1, 0, 1, 0, 0, 0, 0, 0, 0, 0, 0, 1, 1, 0, 1, 0, 0, 0, 1, 0, 1, 1, 1, 0, 0, 0, 0, 0, 1, 0, 1, 0, 1, 0, 0, 0, 0, 0, 1, 0, 0, 1, 0, 0, 0, 0, 0, 1, 1, 0, 0, 0, 0, 0, 1, 0, 1, 1, 1, 0, 0, 1, 0, 1, 0, 0, 0, 0, 1, 0, 0, 0, 0, 1, 1, 1, 1, 0, 0, 1, 0, 1, 0, 0, 0, 0, 1, 1, 0, 0, 0, 0, 0, 0, 1, 0, 1, 0, 0, 0, 0, 0, 1, 0, 0, 0, 0, 0, 0, 1, 0, 0, 0, 0, 0, 0, 0, 1, 0, 0, 0, 0, 0, 0, 1, 1, 0, 0, 0, 0, 0, 1, 1, 0, 0, 0, 0, 1, 0, 1, 0, 0, 0, 1, 1, 0, 1, 1, 1, 0, 0, 1, 1, 1, 0, 1, 1, 1, 1, 0, 1, 1, 1, 1, 1, 0, 1, 1, 1, 1, 1, 1, 0, 1, 0, 0, 1, 1, 0, 1, 0, 1, 1, 1, 0, 0, 0, 0, 1, 1, 0, 1, 0, 0, 0, 0, 1, 0, 0, 1, 1, 0, 0, 1, 1, 1, 1, 1, 0, 1, 1, 0, 0, 0, 0, 0, 1, 0, 0, 1, 0, 0, 1, 0, 0, 0, 0, 0, 0, 1, 1, 0, 1, 0, 1, 1, 1, 0, 0, 0, 1, 0, 0, 0, 1, 0, 0, 1, 1, 1, 1, 0, 1, 0, 0, 1, 0, 1, 0, 0, 0, 1, 0, 0, 0, 0, 0, 0, 0, 0, 0, 0, 0, 0, 0, 1, 1, 1, 1, 0, 1, 1, 1, 0, 1, 1, 1, 0, 1, 0, 1, 0, 1, 0, 0, 0, 1, 0, 1, 0, 1, 1, 1, 0, 0, 1, 0, 1, 1, 1, 0, 0, 0, 0, 0, 0, 1, 0, 1, 0, 1, 0, 0, 0, 0, 1, 1, 1, 0, 1, 0, 0, 0, 1, 0, 0, 0, 1, 0, 0, 0, 1, 0, 0, 0, 0, 0, 1, 1, 0, 1, 0, 0, 0, 0, 1, 0, 0, 1, 0, 0, 1, 0, 0, 0, 0, 0, 0, 1, 0, 1, 1, 1, 0, 0, 1, 0, 1, 1, 1, 1, 1, 0, 1, 1, 1, 1, 1, 1, 0, 0, 0, 1, 1, 1, 1, 1, 1, 1, 1, 1, 1, 1, 1, 0, 0, 1, 1, 0, 0, 0, 1, 0, 1, 1, 0, 0, 1, 1, 0, 0, 0, 0, 0, 0, 0, 1, 1, 1, 1, 1, 1, 1, 0, 1, 1, 1, 1, 1, 1, 1, 1, 1, 0, 1, 1, 1, 1, 1, 1, 1, 1, 1, 1, 1, 1, 1, 1, 1, 1, 1, 1, 1, 1, 1, 1, 0, 0, 1, 0, 1, 1, 1, 0, 0, 0, 1, 1, 1, 1, 0, 0, 1, 0, 1, 0, 1, 0, 1, 1, 1, 0, 0, 1, 0, 1, 0, 0, 0, 1, 1, 0, 1, 1, 0, 1, 1, 1, 0, 1, 1, 0, 1, 0, 1, 0, 0, 1, 1, 1, 1, 1, 0, 1, 1, 1, 1, 0, 0, 0, 1, 0, 1, 1, 1, 0, 0, 1, 1, 0, 0, 1, 1, 1, 0, 1, 0, 0, 1, 1, 1, 1, 1, 1, 1, 0, 1, 1, 1, 1, 0, 0, 1, 1, 1, 0, 1, 1, 1, 1, 1, 1, 0, 1, 0, 1, 1, 1, 1, 1, 1, 0, 1, 0, 0, 1, 1, 0, 0, 1, 0, 1, 1, 0, 0, 1, 1, 1, 0, 0, 1, 0, 0, 1, 1, 0, 0, 0, 0, 1, 0, 1, 0, 1, 1, 1, 1, 1, 0, 1, 1, 1, 1, 1, 0, 1, 0, 1, 0, 1, 1, 0, 1, 0, 0, 0, 1, 1, 0, 1, 0, 0, 1, 1, 1, 1, 0, 1, 0, 1, 0, 1, 1, 1, 1, 0, 1, 1, 0, 1, 1, 1, 1, 1, 1, 0, 0, 1, 0, 1, 0, 0]\n",
      "[582, 499, 420, 368, 200, 7]\n",
      "582\n",
      "False\n",
      "7e-05\n"
     ]
    }
   ],
   "source": [
    "# DEFACTORING INSPECTION\n",
    "print(sextuplets[582][0].head()) #data\n",
    "print(sextuplets[582][1]) #classvector \n",
    "print(sextuplets[582][2]) #listtoexclude\n",
    "print(sextuplets[582][3]) #i\n",
    "print(sextuplets[582][4]) #usedate\n",
    "print(sextuplets[582][5]) #regularization\n"
   ]
  },
  {
   "cell_type": "markdown",
   "metadata": {},
   "source": [
    "## Diving Into model_one_volume()\n",
    "\n",
    "We are now about to step down into the very heart of the project, the modeling of each individual text.\n",
    "\n",
    "To do this we need to bring the function, model_one_volume into the global namespace of the notebook. This means we need to dig into a new module, modelingprocess and extract a few functions from it. The main modeling functin, `model_one_volume` depends upon two helper functions, `normalizearray()` and `sliceframe.`"
   ]
  },
  {
   "cell_type": "code",
   "execution_count": 64,
   "metadata": {
    "collapsed": true
   },
   "outputs": [],
   "source": [
    "# modelingprocess.py\n",
    "\n",
    "import numpy as np\n",
    "import pandas as pd\n",
    "from sklearn.linear_model import LogisticRegression\n",
    "\n",
    "def sliceframe(dataframe, yvals, excludedrows, testrow):\n",
    "    numrows = len(dataframe)\n",
    "    newyvals = list(yvals)\n",
    "    for i in excludedrows:\n",
    "        del newyvals[i]\n",
    "        # NB: This only works if we assume that excluded rows\n",
    "        # has already been sorted in descending order !!!!!!!\n",
    "        # otherwise indexes will slide around as you delete\n",
    "\n",
    "    trainingset = dataframe.drop(dataframe.index[excludedrows])\n",
    "\n",
    "    newyvals = np.array(newyvals)\n",
    "    testset = dataframe.iloc[testrow]\n",
    "\n",
    "    return trainingset, newyvals, testset\n",
    "\n",
    "def normalizearray(featurearray, usedate):\n",
    "    '''Normalizes an array by centering on means and\n",
    "    scaling by standard deviations. Also returns the\n",
    "    means and standard deviations for features.\n",
    "    '''\n",
    "\n",
    "    numinstances, numfeatures = featurearray.shape\n",
    "    means = list()\n",
    "    stdevs = list()\n",
    "    lastcolumn = numfeatures - 1\n",
    "    for featureidx in range(numfeatures):\n",
    "\n",
    "        thiscolumn = featurearray.iloc[ : , featureidx]\n",
    "        thismean = np.mean(thiscolumn)\n",
    "\n",
    "        thisstdev = np.std(thiscolumn)\n",
    "\n",
    "        if (not usedate) or featureidx != lastcolumn:\n",
    "            # If we're using date we don't normalize the last column.\n",
    "            means.append(thismean)\n",
    "            stdevs.append(thisstdev)\n",
    "            featurearray.iloc[ : , featureidx] = (thiscolumn - thismean) / thisstdev\n",
    "        else:\n",
    "            print('FLAG')\n",
    "            means.append(thismean)\n",
    "            thisstdev = 0.1\n",
    "            stdevs.append(thisstdev)\n",
    "            featurearray.iloc[ : , featureidx] = (thiscolumn - thismean) / thisstdev\n",
    "            # We set a small stdev for date.\n",
    "\n",
    "    return featurearray, means, stdevs\n",
    "\n",
    "def model_one_volume(data5tuple):\n",
    "    data, classvector, listtoexclude, i, usedate, regularization = data5tuple\n",
    "    trainingset, yvals, testset = sliceframe(data, classvector, listtoexclude, i)\n",
    "    newmodel = LogisticRegression(C = regularization)\n",
    "    trainingset, means, stdevs = normalizearray(trainingset, usedate)\n",
    "    newmodel.fit(trainingset, yvals)\n",
    "\n",
    "    testset = (testset - means) / stdevs\n",
    "    prediction = newmodel.predict_proba(testset.reshape(1, -1))[0][1] #DEFACTOR FIX\n",
    "    if i % 50 == 0:\n",
    "        print(i)\n",
    "    # print(str(i) + \"  -  \" + str(len(listtoexclude)))\n",
    "    return prediction\n"
   ]
  },
  {
   "cell_type": "markdown",
   "metadata": {},
   "source": [
    "\n",
    "What is happening here:\n",
    "\n",
    "- iterates over every volume\n",
    "- removes that volume and any other volumes by the same author from the training set\n",
    "- normalizes the training set by computing the z-score for each feature/feature set\n",
    "- fits the model on the z-scores\n",
    "- normalizes the test data by computing the z-score\n",
    "- using the fitted model, predicts the probability of the test data that it is either reviewed or random\n",
    "\n",
    "\n",
    "\n",
    "\n",
    "#### sliceframe()\n",
    "\n",
    "This function prepares the data for training a model for a specific volume. Given all of the data, all of the classifications, a list of volumes to exclude, and the index of the specific volume to model, this function removes the specific volume and the volumes by the same authors (indicated by `excluderows`) from the training data set (because we are holding out one volume to be classified by the logistic regression). This function then returns a training set, a list of classifications, and the held-out volume to-be-classified once the model has been trained. \n",
    "\n",
    "\n",
    "#### normalizearray()\n",
    "\n",
    "This function computes the z-score for each value in the training set. That is, it loops over each each column in the data structure, subtracts the column mean from each value, and then divides that by the standard deviation. \n",
    "\n",
    "\n",
    "Question:\n",
    "- Why is he normalizing the data by computing z-scores?\n",
    "\n",
    "> In training the model we “normalize” word frequencies by the standard deviation for each word (across the whole dataset). So when we use the model to illuminate specific passages, we also divide coefficients by the standard deviation. This tells us, roughly, how much a single occurrence of a given word would affect the model’s prediction, which is what we’re trying to dramatize when we quote a passage. (page 35)\n",
    "\n",
    "\n",
    "The answer appears to have something to do with using the model's coefficients in the interpretation of the effect of individual words.   \n"
   ]
  },
  {
   "cell_type": "markdown",
   "metadata": {},
   "source": [
    "### What happens when you logistically regress...\n",
    "\n",
    "Our investigation into the mechanisms of logistic regression were driven by the question \"what is the regularization value?\"\n",
    "\n",
    "This lead us spend some time watching [Andrew Ng explain classification using Logistic Regression](https://class.coursera.org/ml-005/lecture) on his Coursera course.\n",
    "\n",
    "At a very high level, logistic regression is a machine learning algorithm for performing classification. Logistic regression works by estimating the parameters of a function, the *hypothesis representation*, that divides a multidimensional space into two parts (note, in this case we are talking about binomial or binary logistic regression, which classifies things into one of two bins). The hypothesis representation describes a line that winds its way through the space creating what is called the *decision boundary.* Every data point that lands on one side the boundary gets one label and every data point on the other side of the boundary gets the other label. Similar to linear regression, the goal is to find the best hypothesis representation, that is, the function that best draws a line that divides the space given your already classified data. Once you have a good hypothesis representation, and appropriately *fit* model, you can begin to classify *new* data.\n",
    "\n",
    "The key to logistic regression is estimating the parameters of the hypothesis representation. We can derive the parameters by using the *features* of existing data combined with their already known labels; this is called *training data*. The modeling process, the function call to `newmodel.fit(trainingset, yvals)` in Ted's code above, uses training data–the matrix of poem features in the `data` variable and known labels ('reviewed' or 'random') in the `classvector` variable–to \"learn\" the parameters through a process called *gradient descent* (note: scikit-learn uses a different process called [*coordinate descent*](http://scikit-learn.org/stable/modules/linear_model.html#logistic-regression) which is exceptionally complex). How gradient descent or the more advanced optimization functions like coordinate descent work are well beyond the scope of the discussion (and our explanatory power) so we will just nod and gesture towards the mathematical magic performed by the `newmodel.fit(trainingset, yvals)` function call.\n",
    "\n",
    "#### Overfitting\n",
    "\n",
    "One of the problems when fitting a logistic regression model is a tendency towards *overfitting*. Crudely this means the model, the function and set of parameters, you estimated have tailored themselves so that they are overly optimized to the data you have. As such, the model becomes less useful for *prediction* or classifying any new data you might encounter. In Ted's case, he is fitting a model based upon all of the poems and their classifications *except one (or a few by the same author)* which he then uses to predict if the *held out* poem was 'reviewed' or 'random.' If he *overfits* the model, it will to a terrible job guessing the status of the held out poem. \n",
    "\n",
    "Regularization is a technique for logistic regression (and other machine learning algorithms) which helps smooth out the tendency toward overfitting with some more mathematical gymnastics that we don't quite have the power to explain with word, but we can explain visually. The diagram below shows how regularization can help with the fitness of the model."
   ]
  },
  {
   "cell_type": "markdown",
   "metadata": {},
   "source": [
    "![Regularization](notebook_resources/regression_figures.png)\n",
    "\n",
    "*On the left side is a linear regression which doesn't quite fit the data. In the middle is an overfit logistic regression. On right side is a regularized logistic regression.*"
   ]
  },
  {
   "cell_type": "markdown",
   "metadata": {},
   "source": [
    "As the diagrams show, the regularized logistic expression (the right side) does have a bit of error, there are pink and blue dots on the wrong sides of the decision boundary, but as more data get added it will generally be more right than the overfitted model as represented by the middle diagram (the squiggly decision boundary). \n",
    "\n",
    "The LinearRegression function of the scikit-learn library allows users to specify a regularization parameter when instantiating a model (`newmodel = LogisticRegression(C = regularization)` in Ted's code). Ted has set the `regularization` parameter to 0.00007. Our question is *why?*"
   ]
  },
  {
   "cell_type": "markdown",
   "metadata": {},
   "source": [
    "## Training the Model\n",
    "\n",
    "The code cell below is the scaffolding code that runs the modeling function. This code cell takes a long time to execute, it is training a new model for each book. It uses Python's built in parallel processing modules (`Pool(processes = 4)`) to speed up the process."
   ]
  },
  {
   "cell_type": "code",
   "execution_count": 65,
   "metadata": {
    "collapsed": false
   },
   "outputs": [
    {
     "name": "stdout",
     "output_type": "stream",
     "text": [
      "Beginning multiprocessing.\n",
      "0\n",
      "50\n",
      "100\n",
      "150\n",
      "200\n",
      "250\n",
      "300\n",
      "350\n",
      "450\n",
      "500\n",
      "400\n",
      "550\n",
      "600\n",
      "650\n",
      "700\n",
      "Multiprocessing concluded.\n"
     ]
    }
   ],
   "source": [
    "from multiprocessing import Pool # DEFACTORING ADD\n",
    "\n",
    "# Now do leave-one-out predictions.\n",
    "print('Beginning multiprocessing.')\n",
    "\n",
    "pool = Pool(processes = 4)\n",
    "res = pool.map_async(model_one_volume, sextuplets)\n",
    "\n",
    "# After all files are processed, write metadata, errorlog, and counts of phrases.\n",
    "res.wait()\n",
    "resultlist = res.get()\n",
    "\n",
    "assert len(resultlist) == len(orderedIDs)\n",
    "\n",
    "logisticpredictions = dict()\n",
    "for i, volid in enumerate(orderedIDs):\n",
    "    logisticpredictions[volid] = resultlist[i]\n",
    "\n",
    "pool.close()\n",
    "pool.join()\n",
    "\n",
    "print('Multiprocessing concluded.')"
   ]
  },
  {
   "cell_type": "code",
   "execution_count": 66,
   "metadata": {
    "collapsed": true
   },
   "outputs": [],
   "source": [
    "truepositives = 0\n",
    "truenegatives = 0\n",
    "falsepositives = 0\n",
    "falsenegatives = 0\n",
    "allvolumes = list()"
   ]
  },
  {
   "cell_type": "code",
   "execution_count": 67,
   "metadata": {
    "collapsed": true
   },
   "outputs": [],
   "source": [
    "with open(outputpath, mode = 'w', encoding = 'utf-8') as f:\n",
    "    writer = csv.writer(f)\n",
    "    header = ['volid', 'reviewed', 'obscure', 'pubdate', 'birthdate', 'gender', 'nation', 'allwords', 'logistic', 'author', 'title', 'pubname', 'actually', 'realclass']\n",
    "    writer.writerow(header)\n",
    "    for volid in IDsToUse:\n",
    "        metadata = metadict[volid]\n",
    "        reviewed = metadata['reviewed']\n",
    "        obscure = metadata['obscure']\n",
    "        pubdate = infer_date(metadata, datetype)\n",
    "        birthdate = metadata['birthdate']\n",
    "        gender = metadata['gender']\n",
    "        nation = metadata['nation']\n",
    "        author = metadata['author']\n",
    "        title = metadata['title']\n",
    "        canonicity = metadata['canonicity']\n",
    "        pubname = metadata['pubname']\n",
    "        allwords = volsizes[volid]\n",
    "        logistic = logisticpredictions[volid]\n",
    "        realclass = classdictionary[volid]\n",
    "        outrow = [volid, reviewed, obscure, pubdate, birthdate, gender, nation, allwords, logistic, author, title, pubname, canonicity, realclass]\n",
    "        writer.writerow(outrow)\n",
    "        allvolumes.append(outrow)\n",
    "\n",
    "        if logistic > 0.5 and classdictionary[volid] > 0.5:\n",
    "            truepositives += 1\n",
    "        elif logistic <= 0.5 and classdictionary[volid] < 0.5:\n",
    "            truenegatives += 1\n",
    "        elif logistic <= 0.5 and classdictionary[volid] > 0.5:\n",
    "            falsenegatives += 1\n",
    "        elif logistic > 0.5 and classdictionary[volid] < 0.5:\n",
    "            falsepositives += 1"
   ]
  },
  {
   "cell_type": "markdown",
   "metadata": {},
   "source": [
    "## Interrogating the model through its coefficients\n",
    "\n",
    "\n",
    "The code below represents a shift in the focal object of the analysis. In the previous section 720 distinct logistic regressions were trained in order to predict the classification of a single, held-out poem. This is the data that was used to produce the main figure, *Figure 1. Predicted probabilities that volumes come from the reviewed set.* \n",
    "\n",
    "The code below generates a single logistic regression model, trained n *all of the data* with nothing held-out (at least when using the 'full' execution path). The reason no data are held out is because this model is not being used for prediction purposes. Instead, the properties of this model are interrogated directly to better understand how individual features, words, had an effect upon the prediction. This is the analysis that allowed them to label individuals worlds as either red or blue based upon their effect when quoting individual passages.\n",
    "\n",
    "\n",
    "This isn't using computational modeling to *predict* a phenomena, it is using the model to *explore* and *explain* patterns and features of the phenomena. This code describes a process where by the model is being deployed for *exploratory data analysis*"
   ]
  },
  {
   "cell_type": "code",
   "execution_count": 68,
   "metadata": {
    "collapsed": false
   },
   "outputs": [
    {
     "name": "stdout",
     "output_type": "stream",
     "text": [
      "\n"
     ]
    }
   ],
   "source": [
    "donttrainon.sort(reverse = True)\n",
    "trainingset, yvals, testset = sliceframe(data, classvector, donttrainon, 0)\n",
    "newmodel = LogisticRegression(C = regularization)\n",
    "trainingset, means, stdevs = normalizearray(trainingset, usedate)\n",
    "newmodel.fit(trainingset, yvals)\n",
    "\n",
    "coefficients = newmodel.coef_[0] * 100\n",
    "\n",
    "coefficientuples = list(zip(coefficients, (coefficients / np.array(stdevs)), vocablist + ['pub.date']))\n",
    "coefficientuples.sort()\n",
    "if verbose:\n",
    "    for coefficient, normalizedcoef, word in coefficientuples:\n",
    "        print(word + \" :  \" + str(coefficient))\n",
    "\n",
    "print()\n",
    "accuracy = (truepositives + truenegatives) / len(IDsToUse)"
   ]
  },
  {
   "cell_type": "markdown",
   "metadata": {},
   "source": [
    "Similar to above, we don't quite understand is why Ted is normalizing the coefficients. What we don't know is what set of values, the coefficients or the normalized coefficients he is using when he highlights words as either red or blue in the narrative.\n",
    "\n",
    "> In training the model we “normalize” word frequencies by the standard deviation for each word (across the whole dataset). So when we use the model to illuminate specific passages, we also divide coefficients by the standard deviation. This tells us, roughly, how much a single occurrence of a given word would affect the model’s prediction, which is what we’re trying to dramatize when we quote a passage. (page 35)\n",
    "\n"
   ]
  },
  {
   "cell_type": "code",
   "execution_count": 69,
   "metadata": {
    "collapsed": false
   },
   "outputs": [
    {
     "data": {
      "text/plain": [
       "3200"
      ]
     },
     "execution_count": 69,
     "metadata": {},
     "output_type": "execute_result"
    }
   ],
   "source": [
    "# DEFACTORING\n",
    "len(newmodel.coef_[0])"
   ]
  },
  {
   "cell_type": "markdown",
   "metadata": {},
   "source": [
    "\n",
    "\n",
    "\n",
    "### Writing word coefficients to disk\n",
    "\n",
    "the code below generates the `mainmodelcoefficients.csv` which contains the word, its coefficient and its normalized coefficients. "
   ]
  },
  {
   "cell_type": "code",
   "execution_count": 73,
   "metadata": {
    "collapsed": true
   },
   "outputs": [],
   "source": [
    "coefficientpath = outputpath.replace('.csv', '.coefs.csv')\n",
    "with open(coefficientpath, mode = 'w', encoding = 'utf-8') as f:\n",
    "    writer = csv.writer(f)\n",
    "    for triple in coefficientuples:\n",
    "        coef, normalizedcoef, word = triple\n",
    "        writer.writerow([word, coef, normalizedcoef])\n",
    "\n",
    "rawaccuracy = accuracy #DEFACTOR\n",
    "#return accuracy, allvolumes, coefficientuples"
   ]
  },
  {
   "cell_type": "markdown",
   "metadata": {
    "collapsed": true
   },
   "source": []
  },
  {
   "cell_type": "code",
   "execution_count": null,
   "metadata": {
    "collapsed": true
   },
   "outputs": [],
   "source": []
  },
  {
   "cell_type": "code",
   "execution_count": null,
   "metadata": {
    "collapsed": true
   },
   "outputs": [],
   "source": []
  },
  {
   "cell_type": "code",
   "execution_count": null,
   "metadata": {
    "collapsed": true
   },
   "outputs": [],
   "source": []
  },
  {
   "cell_type": "markdown",
   "metadata": {
    "collapsed": true
   },
   "source": [
    "## popping out of create_model back replicate.py"
   ]
  },
  {
   "cell_type": "markdown",
   "metadata": {},
   "source": [
    "The final function of the analysis is to test the accuracy of the model(s). The code below generates a best fit line, using [numpy.polyfit](http://docs.scipy.org/doc/numpy-1.10.0/reference/generated/numpy.polyfit.html), for all of the results. He then calculates which are predicted-as-reviewed, which is those that fall above this dividing line\n",
    "\n",
    "The accuracy of the dividing line is computed by the total number of predicted-as-reviewed that were actually reviewed divided by the total.\n",
    "\n",
    "Note, this is the accuracy of the dividing line, not the accuracy of the model(s) to predict the reviewed stats of the poems."
   ]
  },
  {
   "cell_type": "code",
   "execution_count": 71,
   "metadata": {
    "collapsed": false
   },
   "outputs": [],
   "source": [
    "import matplotlib.pyplot as plt # DEFACTORING\n",
    "%matplotlib inline\n",
    "\n",
    "def diachronic_tilt(allvolumes, modeltype, datelimits):\n",
    "    ''' Takes a set of predictions produced by a model that knows nothing about date,\n",
    "    and divides it along a line with a diachronic tilt. We need to do this in a way\n",
    "    that doesn't violate crossvalidation. I.e., we shouldn't \"know\" anything\n",
    "    that the model didn't know. We tried a couple of different ways to do this, but\n",
    "    the simplest and actually most reliable is to divide the whole dataset along a\n",
    "    linear central trend line for the data!\n",
    "    '''\n",
    "\n",
    "    listofrows = list()\n",
    "    classvector = list()\n",
    "\n",
    "    # DEPRECATED\n",
    "    # if modeltype == 'logistic' and len(datelimits) == 2:\n",
    "    #     # In this case we construct a subset of data to model on.\n",
    "    #     tomodeldata = list()\n",
    "    #     tomodelclasses = list()\n",
    "    #     pastthreshold, futurethreshold = datelimits\n",
    "\n",
    "    for volume in allvolumes:\n",
    "        date = volume[3]\n",
    "        logistic = volume[8]\n",
    "        realclass = volume[13]\n",
    "        listofrows.append([logistic, date])\n",
    "        classvector.append(realclass)\n",
    "\n",
    "        # DEPRECATED\n",
    "        # if modeltype == 'logistic' and len(datelimits) == 2:\n",
    "        #     if date >= pastthreshold and date <= futurethreshold:\n",
    "        #         tomodeldata.append([logistic, date])\n",
    "        #         tomodelclasses.append(realclass)\n",
    "\n",
    "    y, x = [a for a in zip(*listofrows)]\n",
    "    plt.axis([min(x) - 2, max(x) + 2, min(y) - 0.02, max(y) + 0.02])\n",
    "    reviewedx = list()\n",
    "    reviewedy = list()\n",
    "    randomx = list()\n",
    "    randomy = list()\n",
    "\n",
    "    for idx, reviewcode in enumerate(classvector):\n",
    "        if reviewcode == 1:\n",
    "            reviewedx.append(x[idx])\n",
    "            reviewedy.append(y[idx])\n",
    "        else:\n",
    "            randomx.append(x[idx])\n",
    "            randomy.append(y[idx])\n",
    "\n",
    "    plt.plot(reviewedx, reviewedy, 'ro')\n",
    "    plt.plot(randomx, randomy, 'k+')\n",
    "\n",
    "    if modeltype == 'logistic':\n",
    "        # all this is DEPRECATED\n",
    "        print(\"Hey, you're attempting to use the logistic-tilt option\")\n",
    "        print(\"that we deactivated. Go in and uncomment the code.\")\n",
    "\n",
    "        # if len(datelimits) == 2:\n",
    "        #     data = pd.DataFrame(tomodeldata)\n",
    "        #     responsevariable = tomodelclasses\n",
    "        # else:\n",
    "        #     data = pd.DataFrame(listofrows)\n",
    "        #     responsevariable = classvector\n",
    "\n",
    "        # newmodel = LogisticRegression(C = 100000)\n",
    "        # newmodel.fit(data, responsevariable)\n",
    "        # coefficients = newmodel.coef_[0]\n",
    "\n",
    "        # intercept = newmodel.intercept_[0] / (-coefficients[0])\n",
    "        # slope = coefficients[1] / (-coefficients[0])\n",
    "\n",
    "        # p = np.poly1d([slope, intercept])\n",
    "\n",
    "    elif modeltype == 'linear':\n",
    "        # what we actually do\n",
    "\n",
    "        z = np.polyfit(x, y, 1)\n",
    "        p = np.poly1d(z)\n",
    "        slope = z[0]\n",
    "        intercept = z[1]\n",
    "\n",
    "    plt.plot(x,p(x),\"b-\")\n",
    "    plt.show(block = False)\n",
    "\n",
    "    x = np.array(x, dtype='float64')\n",
    "    y = np.array(y, dtype='float64')\n",
    "    classvector = np.array(classvector)\n",
    "    dividingline = intercept + (x * slope)\n",
    "    predicted_as_reviewed = (y > dividingline)\n",
    "    really_reviewed = (classvector == 1)\n",
    "\n",
    "    accuracy = sum(predicted_as_reviewed == really_reviewed) / len(classvector)\n",
    "\n",
    "    return accuracy"
   ]
  },
  {
   "cell_type": "code",
   "execution_count": 74,
   "metadata": {
    "collapsed": false
   },
   "outputs": [
    {
     "data": {
      "image/png": "[encoded data removed]",
      "text/plain": [
       "<matplotlib.figure.Figure at 0x105abb048>"
      ]
     },
     "metadata": {},
     "output_type": "display_data"
    },
    {
     "name": "stdout",
     "output_type": "stream",
     "text": [
      "If we divide the dataset with a horizontal line at 0.5, accuracy is:  0.7736111111111111\n",
      "Divided with a line fit to the data trend, it's  0.791666666667\n"
     ]
    }
   ],
   "source": [
    "tiltaccuracy = diachronic_tilt(allvolumes, 'linear', [])\n",
    "\n",
    "print('If we divide the dataset with a horizontal line at 0.5, accuracy is: ', str(rawaccuracy))\n",
    "\n",
    "print(\"Divided with a line fit to the data trend, it's \", str(tiltaccuracy))"
   ]
  },
  {
   "cell_type": "markdown",
   "metadata": {},
   "source": [
    "## Conclusions\n",
    "\n",
    "This notebook contains all of the code necessary to run through a full execution of the computational analysis.\n",
    "\n",
    "\n",
    "Open questions for Ted:\n",
    "- why does he normalize the word frequences (using `normalizearray()`) before modeling?\n",
    "- Why does he normalize the coefficients (by divided by standard deviation)?\n",
    "\n",
    "Basically, we don't have a firm understanding of why he is normalizing, mainly because we don't understand the meaning or significance of these steps on the interpretibility of the data. "
   ]
  },
  {
   "cell_type": "markdown",
   "metadata": {
    "collapsed": true
   },
   "source": [
    "### TODO: We want to infer a 'standard' set of practices when defactoring\n",
    "\n",
    "  - We chose 1 execution path, 1 namespace\n",
    "  - To do this we broke up the code into various pieces that expressed that one execution path\n",
    "  - We inspected and explicitly reported the values as a form of reporting 'state' of the execution\n",
    "  - We DEFACTORED (refactored for single namespace execution) the code at places- "
   ]
  },
  {
   "cell_type": "code",
   "execution_count": null,
   "metadata": {
    "collapsed": true
   },
   "outputs": [],
   "source": []
  }
 ],
 "metadata": {
  "kernelspec": {
   "display_name": "Python 3",
   "language": "python",
   "name": "python3"
  },
  "language_info": {
   "codemirror_mode": {
    "name": "ipython",
    "version": 3
   },
   "file_extension": ".py",
   "mimetype": "text/x-python",
   "name": "python",
   "nbconvert_exporter": "python",
   "pygments_lexer": "ipython3",
   "version": "3.5.1"
  },
  "widgets": {
   "state": {},
   "version": "1.0.0"
  }
 },
 "nbformat": 4,
 "nbformat_minor": 0
}
